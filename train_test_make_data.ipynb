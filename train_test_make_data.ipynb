{
 "cells": [
  {
   "cell_type": "code",
   "execution_count": null,
   "metadata": {
    "execution": {
     "iopub.execute_input": "2024-11-27T17:10:08.718989Z",
     "iopub.status.busy": "2024-11-27T17:10:08.718629Z",
     "iopub.status.idle": "2024-11-27T17:10:18.289104Z",
     "shell.execute_reply": "2024-11-27T17:10:18.288163Z",
     "shell.execute_reply.started": "2024-11-27T17:10:08.718948Z"
    },
    "trusted": true
   },
   "outputs": [],
   "source": [
    "!pip install datasets open3d laspy"
   ]
  },
  {
   "cell_type": "code",
   "execution_count": null,
   "metadata": {
    "_cell_guid": "b1076dfc-b9ad-4769-8c92-a6c4dae69d19",
    "_uuid": "8f2839f25d086af736a60e9eeb907d3b93b6e0e5",
    "execution": {
     "iopub.execute_input": "2024-11-27T17:10:36.632734Z",
     "iopub.status.busy": "2024-11-27T17:10:36.632400Z",
     "iopub.status.idle": "2024-11-27T17:10:42.142623Z",
     "shell.execute_reply": "2024-11-27T17:10:42.141937Z",
     "shell.execute_reply.started": "2024-11-27T17:10:36.632705Z"
    },
    "trusted": true
   },
   "outputs": [],
   "source": [
    "import pandas as pd\n",
    "import numpy as np\n",
    "import os\n",
    "import seaborn as sns\n",
    "import matplotlib.pyplot as plt\n",
    "from datasets import load_dataset\n",
    "\n",
    "import torch \n",
    "import torch.nn as nn\n",
    "import torch.optim as optim\n",
    "from torch.optim.lr_scheduler import CosineAnnealingLR # или другой scheduler\n",
    "from torch.utils.data import Dataset, DataLoader\n",
    "import wandb\n",
    "\n",
    "import gc\n",
    "import laspy\n",
    "import open3d as o3d\n",
    "\n",
    "import warnings\n",
    "warnings.simplefilter(action='ignore')\n",
    "\n",
    "from tqdm.auto import tqdm\n",
    "tqdm.pandas()"
   ]
  },
  {
   "cell_type": "code",
   "execution_count": null,
   "metadata": {
    "execution": {
     "iopub.execute_input": "2024-11-27T17:10:47.282773Z",
     "iopub.status.busy": "2024-11-27T17:10:47.281920Z",
     "iopub.status.idle": "2024-11-27T17:10:47.342238Z",
     "shell.execute_reply": "2024-11-27T17:10:47.341287Z",
     "shell.execute_reply.started": "2024-11-27T17:10:47.282734Z"
    },
    "trusted": true
   },
   "outputs": [],
   "source": [
    "train_df = pd.read_csv('/kaggle/input/power-line-security-zone-vegetation-detection/train.csv').drop_duplicates().reset_index(drop=True)\n",
    "print('shape: ', train_df.shape)\n",
    "train_df.head()"
   ]
  },
  {
   "cell_type": "code",
   "execution_count": null,
   "metadata": {
    "execution": {
     "iopub.execute_input": "2024-11-27T17:10:51.062205Z",
     "iopub.status.busy": "2024-11-27T17:10:51.061369Z",
     "iopub.status.idle": "2024-11-27T17:10:51.126188Z",
     "shell.execute_reply": "2024-11-27T17:10:51.125561Z",
     "shell.execute_reply.started": "2024-11-27T17:10:51.062170Z"
    },
    "trusted": true
   },
   "outputs": [],
   "source": [
    "from sklearn.preprocessing import LabelEncoder\n",
    "le = LabelEncoder()\n",
    "train_df['class'] = le.fit_transform(train_df['class'])\n",
    "classes = {i: class_name for i, class_name in enumerate(le.classes_)}"
   ]
  },
  {
   "cell_type": "code",
   "execution_count": null,
   "metadata": {
    "trusted": true
   },
   "outputs": [],
   "source": [
    "def group2box(row):\n",
    "    return np.array([row['center_x'], row['center_y'], row['center_z'], row['size_x'], row['size_y'], row['size_z'], row['yaw'], row['class']])\n",
    "\n",
    "train_df['answer'] = train_df.apply(group2box, axis=1)\n",
    "train_df = train_df[['file_name', 'answer']]"
   ]
  },
  {
   "cell_type": "code",
   "execution_count": null,
   "metadata": {
    "execution": {
     "iopub.status.busy": "2024-11-27T17:11:21.329060Z",
     "iopub.status.idle": "2024-11-27T17:11:21.329352Z",
     "shell.execute_reply": "2024-11-27T17:11:21.329213Z",
     "shell.execute_reply.started": "2024-11-27T17:11:21.329199Z"
    },
    "trusted": true
   },
   "outputs": [],
   "source": [
    "new_df = train_df.groupby('file_name').agg(lambda x: np.array(x)).reset_index()\n",
    "new_df['counts'] = new_df.answer.map(len)\n",
    "\n",
    "def reshape_arrays(row):\n",
    "    return np.concatenate(row['answer']).reshape(row['counts'], 8)\n",
    "    \n",
    "new_df['answer'] = new_df.apply(reshape_arrays, axis=1)"
   ]
  },
  {
   "cell_type": "code",
   "execution_count": null,
   "metadata": {
    "collapsed": true,
    "execution": {
     "iopub.execute_input": "2024-11-27T06:30:14.221768Z",
     "iopub.status.busy": "2024-11-27T06:30:14.221154Z",
     "iopub.status.idle": "2024-11-27T06:32:08.651399Z",
     "shell.execute_reply": "2024-11-27T06:32:08.650707Z",
     "shell.execute_reply.started": "2024-11-27T06:30:14.221735Z"
    },
    "jupyter": {
     "outputs_hidden": true
    },
    "trusted": true
   },
   "outputs": [],
   "source": [
    "ds = load_dataset(\"Eka-Korn/power_line_lidar_data\")\n",
    "\n",
    "train_counts = pd.read_csv('/kaggle/input/power-line-counts/train_counts.csv').T.reset_index()\n",
    "train_counts['index'] = train_counts['index'].map(lambda x: x[:-4])\n",
    "\n",
    "test_counts = pd.read_csv('/kaggle/input/power-line-counts/test_counts.csv').T.reset_index()\n",
    "test_counts['index'] = test_counts['index'].map(lambda x: x[:-4])"
   ]
  },
  {
   "cell_type": "code",
   "execution_count": null,
   "metadata": {
    "execution": {
     "iopub.execute_input": "2024-11-27T17:11:55.289460Z",
     "iopub.status.busy": "2024-11-27T17:11:55.288839Z",
     "iopub.status.idle": "2024-11-27T17:11:55.316417Z",
     "shell.execute_reply": "2024-11-27T17:11:55.315453Z",
     "shell.execute_reply.started": "2024-11-27T17:11:55.289423Z"
    },
    "trusted": true
   },
   "outputs": [],
   "source": [
    "workers = 4\n",
    "batch_size = 1\n",
    "\n",
    "device = torch.device(\"cuda\" if torch.cuda.is_available() else \"cpu\")\n",
    "lr = 3e-4\n",
    "warmup = 20\n",
    "# weight_decay = 1e-5\n",
    "epochs = 100\n",
    "warmup_steps = 10"
   ]
  },
  {
   "cell_type": "code",
   "execution_count": null,
   "metadata": {
    "execution": {
     "iopub.execute_input": "2024-11-27T08:16:14.306854Z",
     "iopub.status.busy": "2024-11-27T08:16:14.306134Z",
     "iopub.status.idle": "2024-11-27T08:16:14.313674Z",
     "shell.execute_reply": "2024-11-27T08:16:14.312591Z",
     "shell.execute_reply.started": "2024-11-27T08:16:14.306817Z"
    },
    "trusted": true
   },
   "outputs": [],
   "source": [
    "class CustomDataset(Dataset):\n",
    "    def __init__(self, sub_ds, counts_df, new_df):\n",
    "        self.ds = sub_ds\n",
    "        self.counts_df = counts_df\n",
    "        self.new_df = new_df\n",
    "    \n",
    "    def __getitem__(self, i):\n",
    "        row = self.counts_df.iloc[i]\n",
    "        start = row[0]\n",
    "        end = row[1]\n",
    "        cur_df = self.ds[start:end]\n",
    "        cur_df = pd.DataFrame(cur_df)[['x', 'y', 'z']].sort_values(by='x').reset_index(drop=True).T\n",
    "        cur_df = torch.tensor(cur_df.values, dtype=torch.float)\n",
    "\n",
    "        boxes = self.new_df[self.new_df['file_name'] == row['index']]['answer'].values[0]\n",
    "        return cur_df, boxes\n",
    "    \n",
    "    def __len__(self):\n",
    "        return len(self.counts_df)\n",
    "\n",
    "    # batch_size = 1\n",
    "    # def collate_fn(self, batch):"
   ]
  },
  {
   "cell_type": "code",
   "execution_count": null,
   "metadata": {
    "execution": {
     "iopub.execute_input": "2024-11-27T06:33:37.235808Z",
     "iopub.status.busy": "2024-11-27T06:33:37.235118Z",
     "iopub.status.idle": "2024-11-27T06:33:37.239983Z",
     "shell.execute_reply": "2024-11-27T06:33:37.239072Z",
     "shell.execute_reply.started": "2024-11-27T06:33:37.235757Z"
    },
    "trusted": true
   },
   "outputs": [],
   "source": [
    "train_dataset = CustomDataset(ds['train'], train_counts, new_df)\n",
    "test_dataset = CustomDataset(ds['test'], test_counts, new_df)"
   ]
  },
  {
   "cell_type": "code",
   "execution_count": null,
   "metadata": {
    "execution": {
     "iopub.execute_input": "2024-11-27T06:33:38.304539Z",
     "iopub.status.busy": "2024-11-27T06:33:38.304194Z",
     "iopub.status.idle": "2024-11-27T06:33:38.309652Z",
     "shell.execute_reply": "2024-11-27T06:33:38.308758Z",
     "shell.execute_reply.started": "2024-11-27T06:33:38.304509Z"
    },
    "trusted": true
   },
   "outputs": [],
   "source": [
    "train_loader = torch.utils.data.DataLoader(train_dataset, batch_size=batch_size, num_workers=workers, pin_memory=True,)\n",
    "                                           #collate_fn=train_dataset.collate_fn) \n",
    "test_loader = torch.utils.data.DataLoader(test_dataset, batch_size=batch_size, num_workers=workers, pin_memory=True,)\n",
    "                                          #collate_fn=train_dataset.collate_fn, ) "
   ]
  },
  {
   "cell_type": "code",
   "execution_count": null,
   "metadata": {
    "execution": {
     "iopub.execute_input": "2024-11-27T17:12:04.523323Z",
     "iopub.status.busy": "2024-11-27T17:12:04.522963Z",
     "iopub.status.idle": "2024-11-27T17:12:04.531605Z",
     "shell.execute_reply": "2024-11-27T17:12:04.530682Z",
     "shell.execute_reply.started": "2024-11-27T17:12:04.523288Z"
    },
    "trusted": true
   },
   "outputs": [],
   "source": [
    "class Detector(nn.Module):\n",
    "    \n",
    "    def __init__(self, input_dim, num_coords, num_classes, alpha):\n",
    "        super(Detector, self).__init__()\n",
    "        self.alpha = alpha\n",
    "        self.conv1 = nn.Conv1d(3, 32, 11)\n",
    "        self.conv2 = nn.Conv1d(32, 128, 11)\n",
    "        self.conv3 = nn.Conv1d(128, 256, 11)\n",
    "        # self.conv5 = nn.Conv1d(256, 512, 3)\n",
    "        \n",
    "        # self.btchnorm1 = nn.BatchNorm1d(32)\n",
    "        # self.btchnorm2 = nn.BatchNorm1d(64)\n",
    "        # self.btchnorm3 = nn.BatchNorm1d(128)\n",
    "        # self.btchnorm4 = nn.BatchNorm1d(256)\n",
    "        # self.btchnorm5 = nn.BatchNorm1d(512)\n",
    "        \n",
    "        self.pool = nn.MaxPool1d(2)\n",
    "        # self.lin1 = nn.Linear(512, 256)\n",
    "        self.lin1 = nn.Linear(256, 128)\n",
    "        self.lin2 = nn.Linear(128, 64)\n",
    "        self.lin3 = nn.Linear(64, 10) # [cx, cy, cz, dx, dy, dz, yaw] + [class_0, class_1, class_2]\n",
    "\n",
    "        self.relu = nn.ReLU()\n",
    "        \n",
    "        \n",
    "    def forward(self, xyz, b):\n",
    "        emb_dim = int(xyz.shape[2] // (b*self.alpha))\n",
    "        x = list(xyz.split(emb_dim, dim=2))\n",
    "        if x[-1].shape[-1] != emb_dim:\n",
    "            x.pop(-1)\n",
    "        x = torch.concatenate(x, dim=0)\n",
    "\n",
    "        x = self.pool(self.relu(self.conv1(x)))\n",
    "        x = self.pool(self.relu(self.conv2(x)))\n",
    "        x = self.pool(self.relu(self.conv3(x)))\n",
    "        \n",
    "        # x = self.pool(self.btchnorm1(self.relu(self.conv1(x))))\n",
    "        # x = self.pool(self.btchnorm2(self.relu(self.conv2(x))))\n",
    "        # x = self.pool(self.btchnorm3(self.relu(self.conv3(x))))\n",
    "        # x = self.pool(self.btchnorm4(self.relu(self.conv4(x))))\n",
    "        # x = self.pool(self.btchnorm5(self.relu(self.conv5(x))))\n",
    "        \n",
    "        # x = torch.mean(x, 2)[0]\n",
    "        x = torch.max(x, 2)[0]\n",
    "        x = self.relu(self.lin1(x))\n",
    "        x = self.relu(self.lin2(x))\n",
    "        x = self.lin3(x)\n",
    "        # x = self.relu(self.lin3(x))\n",
    "        # x = self.lin4(x)\n",
    "        return x"
   ]
  },
  {
   "cell_type": "code",
   "execution_count": null,
   "metadata": {
    "execution": {
     "iopub.execute_input": "2024-11-27T17:12:07.471643Z",
     "iopub.status.busy": "2024-11-27T17:12:07.470626Z",
     "iopub.status.idle": "2024-11-27T17:12:07.480147Z",
     "shell.execute_reply": "2024-11-27T17:12:07.479304Z",
     "shell.execute_reply.started": "2024-11-27T17:12:07.471591Z"
    },
    "trusted": true
   },
   "outputs": [],
   "source": [
    "class CustomLoss(nn.Module):\n",
    "    def __init__(self):\n",
    "        super(CustomLoss, self).__init__()\n",
    "        self.criterion_reg = nn.SmoothL1Loss()\n",
    "        self.criterion_class = nn.CrossEntropyLoss()\n",
    "        \n",
    "    def forward(self, boxes, preds):\n",
    "        right_preds = []\n",
    "        # as batch_size = 1\n",
    "        boxes = boxes[0]\n",
    "        for box in boxes:\n",
    "            target_class = torch.tensor(box[-1], dtype=torch.long)\n",
    "            target_xyz = torch.tensor(box[:-1], dtype=torch.float)\n",
    "        \n",
    "            min_loss, l = 10**9, -1\n",
    "            for i, pred in enumerate(preds):\n",
    "                pred_classes = pred[-3:]\n",
    "                pred_coordinates = pred[:-3]\n",
    "                loss_reg = self.criterion_reg(pred_coordinates, target_xyz)\n",
    "                loss_class = self.criterion_class(pred_classes, target_class)\n",
    "                loss = loss_reg# + loss_class\n",
    "                if loss < min_loss:\n",
    "                    min_loss = loss\n",
    "                    l = i\n",
    "                    \n",
    "            right_preds.append(preds[l].unsqueeze(0))\n",
    "            preds = torch.concatenate([preds[:l, :], preds[(l+1):, :]], dim=0)\n",
    "        \n",
    "        right_preds = torch.concatenate(right_preds, dim=0)\n",
    "        \n",
    "        target_class = torch.tensor(boxes[:, -1], dtype=torch.long)\n",
    "        target_xyz = torch.tensor(boxes[:, :-1], dtype=torch.float)\n",
    "        pred_classes = right_preds[:, -3:]\n",
    "        pred_coordinates = right_preds[:, :-3]\n",
    "        \n",
    "        loss_reg = self.criterion_reg(pred_coordinates, target_xyz)\n",
    "        loss_class = self.criterion_class(pred_classes, target_class)\n",
    "        return loss_reg, loss_class"
   ]
  },
  {
   "cell_type": "code",
   "execution_count": null,
   "metadata": {
    "execution": {
     "iopub.execute_input": "2024-11-27T17:12:19.433697Z",
     "iopub.status.busy": "2024-11-27T17:12:19.433358Z",
     "iopub.status.idle": "2024-11-27T17:12:19.437761Z",
     "shell.execute_reply": "2024-11-27T17:12:19.436913Z",
     "shell.execute_reply.started": "2024-11-27T17:12:19.433666Z"
    },
    "trusted": true
   },
   "outputs": [],
   "source": [
    "input_dim = 3 #xyz\n",
    "num_coords = 7 # cx, cy, cz, dx, dy, dz, yaw\n",
    "num_classes = 3 \n",
    "alpha = 1.5 # must be >= 1\n",
    "total_steps = len(train_loader) * epochs"
   ]
  },
  {
   "cell_type": "code",
   "execution_count": null,
   "metadata": {
    "execution": {
     "iopub.execute_input": "2024-11-27T17:12:22.903479Z",
     "iopub.status.busy": "2024-11-27T17:12:22.903057Z",
     "iopub.status.idle": "2024-11-27T17:12:23.940021Z",
     "shell.execute_reply": "2024-11-27T17:12:23.939305Z",
     "shell.execute_reply.started": "2024-11-27T17:12:22.903449Z"
    },
    "trusted": true
   },
   "outputs": [],
   "source": [
    "model = Detector(input_dim, num_coords, num_classes, alpha).to(device)\n",
    "optimizer = torch.optim.Adam(model.parameters(), lr=lr)#, weight_decay=weight_decay)\n",
    "criterion = CustomLoss().to(device)"
   ]
  },
  {
   "cell_type": "code",
   "execution_count": null,
   "metadata": {
    "execution": {
     "iopub.execute_input": "2024-11-27T17:12:30.086903Z",
     "iopub.status.busy": "2024-11-27T17:12:30.085905Z",
     "iopub.status.idle": "2024-11-27T17:12:30.091923Z",
     "shell.execute_reply": "2024-11-27T17:12:30.090820Z",
     "shell.execute_reply.started": "2024-11-27T17:12:30.086842Z"
    },
    "trusted": true
   },
   "outputs": [],
   "source": [
    "scheduler = CosineAnnealingLR(optimizer, T_max=total_steps, eta_min=0)"
   ]
  },
  {
   "cell_type": "code",
   "execution_count": null,
   "metadata": {
    "collapsed": true,
    "execution": {
     "iopub.execute_input": "2024-11-27T06:34:04.185297Z",
     "iopub.status.busy": "2024-11-27T06:34:04.184430Z",
     "iopub.status.idle": "2024-11-27T06:34:23.894821Z",
     "shell.execute_reply": "2024-11-27T06:34:23.893982Z",
     "shell.execute_reply.started": "2024-11-27T06:34:04.185261Z"
    },
    "jupyter": {
     "outputs_hidden": true
    },
    "trusted": true
   },
   "outputs": [],
   "source": [
    "wandb_project = \"power_line_hack\"\n",
    "wandb_run_name = \"custom_detection2\"\n",
    "wandb.init(project=wandb_project, name=wandb_run_name)"
   ]
  },
  {
   "cell_type": "code",
   "execution_count": null,
   "metadata": {
    "collapsed": true,
    "execution": {
     "iopub.execute_input": "2024-11-27T06:34:27.935685Z",
     "iopub.status.busy": "2024-11-27T06:34:27.935330Z",
     "iopub.status.idle": "2024-11-27T06:46:01.821259Z",
     "shell.execute_reply": "2024-11-27T06:46:01.819507Z",
     "shell.execute_reply.started": "2024-11-27T06:34:27.935653Z"
    },
    "jupyter": {
     "outputs_hidden": true
    },
    "trusted": true
   },
   "outputs": [],
   "source": [
    "for epoch in range(epochs):\n",
    "    print(f'Epoch: {epoch+1}')\n",
    "    model.train()\n",
    "    train_loss = 0\n",
    "    for i, (xyz, boxes) in enumerate(train_loader):\n",
    "        preds = model(xyz.to(device), boxes.shape[1])\n",
    "        loss_reg, loss_class = criterion(boxes.to(device), preds)\n",
    "        train_loss = [loss_reg.item(), loss_class.item()]\n",
    "        loss = loss_reg + loss_class\n",
    "        print(f'Train Loss. Regression: {train_loss[0]}; Classification: {train_loss[1]}')\n",
    "        \n",
    "        optimizer.zero_grad()\n",
    "        loss_reg.backward()\n",
    "        optimizer.step()\n",
    "        scheduler.step()\n",
    "    \n",
    "    model.eval()\n",
    "    with torch.no_grad():\n",
    "        for i, (xyz, boxes) in enumerate(test_loader):\n",
    "            preds = model(xyz.to(device), boxes.shape[1])\n",
    "            loss_reg, loss_class = criterion(boxes.to(device), preds)\n",
    "            val_loss = [loss_reg.item(), loss_class.item()]\n",
    "            print(f'Validation Loss. Regression: {val_loss[0]}; Classification: {val_loss[1]}')\n",
    "\n",
    "    wandb.log({\n",
    "            \"epoch\": epoch,\n",
    "            \"train/regression/last\": train_loss[0],\n",
    "            \"train/classification/last\": train_loss[1],\n",
    "            \"val/regression/last\": val_loss[0],\n",
    "            \"val/classification/last\": val_loss[1],\n",
    "            \"lr\": optimizer.param_groups[0][\"lr\"]\n",
    "        })"
   ]
  },
  {
   "cell_type": "code",
   "execution_count": null,
   "metadata": {
    "trusted": true
   },
   "outputs": [],
   "source": []
  },
  {
   "cell_type": "code",
   "execution_count": null,
   "metadata": {
    "execution": {
     "iopub.execute_input": "2024-11-27T05:28:40.645815Z",
     "iopub.status.busy": "2024-11-27T05:28:40.645036Z",
     "iopub.status.idle": "2024-11-27T05:28:40.656336Z",
     "shell.execute_reply": "2024-11-27T05:28:40.655449Z",
     "shell.execute_reply.started": "2024-11-27T05:28:40.645777Z"
    },
    "trusted": true
   },
   "outputs": [],
   "source": [
    "# torch.save(model.state_dict, 'first_model_dict.pth')"
   ]
  },
  {
   "cell_type": "markdown",
   "metadata": {},
   "source": [
    "## Make predictions"
   ]
  },
  {
   "cell_type": "code",
   "execution_count": null,
   "metadata": {
    "collapsed": true,
    "execution": {
     "iopub.execute_input": "2024-11-27T06:48:02.858799Z",
     "iopub.status.busy": "2024-11-27T06:48:02.858034Z",
     "iopub.status.idle": "2024-11-27T07:06:49.754082Z",
     "shell.execute_reply": "2024-11-27T07:06:49.753308Z",
     "shell.execute_reply.started": "2024-11-27T06:48:02.858763Z"
    },
    "jupyter": {
     "outputs_hidden": true
    },
    "trusted": true
   },
   "outputs": [],
   "source": [
    "path = '/kaggle/input/power-line-security-zone-vegetation-detection/test/test'\n",
    "las_files = os.listdir(path)\n",
    "for las_file in las_files:\n",
    "    print(las_file)\n",
    "    las_filepath = os.path.join(path, las_file)\n",
    "    las = laspy.read(las_filepath)\n",
    "    points = las.xyz - las.header.offset\n",
    "    pcd = o3d.geometry.PointCloud()\n",
    "    pcd.points = o3d.utility.Vector3dVector(points)\n",
    "    downpcd = pcd.voxel_down_sample(voxel_size=0.4)\n",
    "    df = pd.DataFrame(np.asarray(downpcd.points), columns=['x', 'y', 'z'])\n",
    "    df['file_name'] = las_file\n",
    "    df.to_csv(f'{las_file}.csv', index=False)\n",
    "        \n",
    "    del downpcd\n",
    "    del points\n",
    "    del df\n",
    "    gc.collect()"
   ]
  },
  {
   "cell_type": "code",
   "execution_count": null,
   "metadata": {
    "execution": {
     "iopub.execute_input": "2024-11-27T07:06:49.756502Z",
     "iopub.status.busy": "2024-11-27T07:06:49.755592Z",
     "iopub.status.idle": "2024-11-27T07:06:49.762497Z",
     "shell.execute_reply": "2024-11-27T07:06:49.761784Z",
     "shell.execute_reply.started": "2024-11-27T07:06:49.756471Z"
    },
    "trusted": true
   },
   "outputs": [],
   "source": [
    "output_dir = '/kaggle/working'\n",
    "files = [os.path.join(output_dir, x) for x in os.listdir(output_dir)]\n",
    "files.remove('/kaggle/working/.virtual_documents')\n",
    "files.remove('/kaggle/working/wandb')"
   ]
  },
  {
   "cell_type": "code",
   "execution_count": null,
   "metadata": {
    "execution": {
     "iopub.execute_input": "2024-11-27T07:07:47.318903Z",
     "iopub.status.busy": "2024-11-27T07:07:47.318300Z",
     "iopub.status.idle": "2024-11-27T07:08:08.336490Z",
     "shell.execute_reply": "2024-11-27T07:08:08.335622Z",
     "shell.execute_reply.started": "2024-11-27T07:07:47.318869Z"
    },
    "trusted": true
   },
   "outputs": [],
   "source": [
    "def make_count(files):\n",
    "    count = 0\n",
    "    counts = {}\n",
    "    for file in files:\n",
    "        df = pd.read_csv(file)\n",
    "        n = len(df)\n",
    "        counts[file.split('/')[-1]] = [count, count+n]\n",
    "        count += n\n",
    "    pd.DataFrame(counts).to_csv(f'counts.csv', index=False)\n",
    "\n",
    "make_count(files)"
   ]
  },
  {
   "cell_type": "code",
   "execution_count": null,
   "metadata": {
    "execution": {
     "iopub.execute_input": "2024-11-27T07:08:14.538179Z",
     "iopub.status.busy": "2024-11-27T07:08:14.537396Z"
    },
    "trusted": true
   },
   "outputs": [],
   "source": [
    "dataset = load_dataset(\"csv\", data_files={\"test\": files})\n",
    "dataset.push_to_hub('power_line_lidar_data_test', token=)"
   ]
  },
  {
   "cell_type": "code",
   "execution_count": null,
   "metadata": {
    "execution": {
     "iopub.execute_input": "2024-11-27T17:12:37.664835Z",
     "iopub.status.busy": "2024-11-27T17:12:37.664480Z",
     "iopub.status.idle": "2024-11-27T17:13:15.648220Z",
     "shell.execute_reply": "2024-11-27T17:13:15.647495Z",
     "shell.execute_reply.started": "2024-11-27T17:12:37.664803Z"
    },
    "trusted": true
   },
   "outputs": [],
   "source": [
    "ds = load_dataset(\"Eka-Korn/power_line_lidar_data_test\")"
   ]
  },
  {
   "cell_type": "code",
   "execution_count": null,
   "metadata": {
    "execution": {
     "iopub.execute_input": "2024-11-27T17:13:34.855236Z",
     "iopub.status.busy": "2024-11-27T17:13:34.854917Z",
     "iopub.status.idle": "2024-11-27T17:13:34.860938Z",
     "shell.execute_reply": "2024-11-27T17:13:34.860047Z",
     "shell.execute_reply.started": "2024-11-27T17:13:34.855207Z"
    },
    "trusted": true
   },
   "outputs": [],
   "source": [
    "class CustomDataset(Dataset):\n",
    "    def __init__(self, sub_ds, counts_df):\n",
    "        self.ds = sub_ds\n",
    "        self.counts_df = counts_df\n",
    "    \n",
    "    def __getitem__(self, i):\n",
    "        row = self.counts_df.iloc[i]\n",
    "        start, end = row[0], row[1]\n",
    "        cur_df = self.ds[start:end]\n",
    "        cur_df = pd.DataFrame(cur_df)[['x', 'y', 'z']].sort_values(by='x').reset_index(drop=True).T\n",
    "        cur_df = torch.tensor(cur_df.values, dtype=torch.float)\n",
    "\n",
    "        return cur_df\n",
    "    \n",
    "    def __len__(self):\n",
    "        return len(self.counts_df)\n",
    "\n",
    "    # batch_size = 1\n",
    "    # def collate_fn(self, batch):"
   ]
  },
  {
   "cell_type": "code",
   "execution_count": null,
   "metadata": {
    "execution": {
     "iopub.execute_input": "2024-11-27T17:13:43.508101Z",
     "iopub.status.busy": "2024-11-27T17:13:43.507739Z",
     "iopub.status.idle": "2024-11-27T17:13:43.519346Z",
     "shell.execute_reply": "2024-11-27T17:13:43.518649Z",
     "shell.execute_reply.started": "2024-11-27T17:13:43.508071Z"
    },
    "trusted": true
   },
   "outputs": [],
   "source": [
    "counts = pd.read_csv('/kaggle/input/counts/counts.csv').T.reset_index()\n",
    "counts['index'] = counts['index'].map(lambda x: x[:-4])"
   ]
  },
  {
   "cell_type": "code",
   "execution_count": null,
   "metadata": {
    "execution": {
     "iopub.execute_input": "2024-11-27T17:13:46.486461Z",
     "iopub.status.busy": "2024-11-27T17:13:46.485728Z",
     "iopub.status.idle": "2024-11-27T17:13:46.490815Z",
     "shell.execute_reply": "2024-11-27T17:13:46.489853Z",
     "shell.execute_reply.started": "2024-11-27T17:13:46.486425Z"
    },
    "trusted": true
   },
   "outputs": [],
   "source": [
    "test_dataset = CustomDataset(ds['test'], counts)\n",
    "test_loader = torch.utils.data.DataLoader(test_dataset, batch_size=1, num_workers=4, pin_memory=True,)"
   ]
  },
  {
   "cell_type": "code",
   "execution_count": null,
   "metadata": {
    "execution": {
     "iopub.execute_input": "2024-11-27T17:35:39.066985Z",
     "iopub.status.busy": "2024-11-27T17:35:39.066116Z",
     "iopub.status.idle": "2024-11-27T17:35:39.071000Z",
     "shell.execute_reply": "2024-11-27T17:35:39.069993Z",
     "shell.execute_reply.started": "2024-11-27T17:35:39.066946Z"
    },
    "trusted": true
   },
   "outputs": [],
   "source": [
    "b = 100 # ???????????????"
   ]
  },
  {
   "cell_type": "code",
   "execution_count": null,
   "metadata": {
    "execution": {
     "iopub.execute_input": "2024-11-27T17:14:53.973100Z",
     "iopub.status.busy": "2024-11-27T17:14:53.972751Z",
     "iopub.status.idle": "2024-11-27T17:14:53.985495Z",
     "shell.execute_reply": "2024-11-27T17:14:53.984565Z",
     "shell.execute_reply.started": "2024-11-27T17:14:53.973067Z"
    },
    "trusted": true
   },
   "outputs": [],
   "source": [
    "model = torch.load('/kaggle/input/27nov/pytorch/default/1/first_model.pth').to(device)"
   ]
  },
  {
   "cell_type": "code",
   "execution_count": null,
   "metadata": {
    "execution": {
     "iopub.execute_input": "2024-11-27T17:35:42.717222Z",
     "iopub.status.busy": "2024-11-27T17:35:42.716589Z",
     "iopub.status.idle": "2024-11-27T17:35:42.721372Z",
     "shell.execute_reply": "2024-11-27T17:35:42.720315Z",
     "shell.execute_reply.started": "2024-11-27T17:35:42.717185Z"
    },
    "trusted": true
   },
   "outputs": [],
   "source": [
    "sft = nn.Softmax(dim=1)"
   ]
  },
  {
   "cell_type": "code",
   "execution_count": null,
   "metadata": {
    "execution": {
     "iopub.execute_input": "2024-11-27T17:43:54.644921Z",
     "iopub.status.busy": "2024-11-27T17:43:54.644576Z",
     "iopub.status.idle": "2024-11-27T17:44:27.977188Z",
     "shell.execute_reply": "2024-11-27T17:44:27.975869Z",
     "shell.execute_reply.started": "2024-11-27T17:43:54.644890Z"
    },
    "trusted": true
   },
   "outputs": [],
   "source": [
    "model.eval()\n",
    "predicts = []\n",
    "with torch.no_grad():\n",
    "    for i, xyz in enumerate(test_loader):\n",
    "        preds = model(xyz.to(device), b) # [b, 10]\n",
    "        out_classes = sft(preds[:, -3:]).cpu().numpy() # probabilities\n",
    "        \n",
    "        pred_classes, pred_coordinates, mxs = [], [], []\n",
    "        for j, out_class in enumerate(out_classes):\n",
    "            mx = max(out_class)\n",
    "            if mx > 0.75:\n",
    "                pred_classes.append(classes[out_class.argmax()])\n",
    "                pred_coordinates.append(preds[j, :-3])\n",
    "                mxs.append(mx)\n",
    "                \n",
    "        predicts.append({'classes': pred_classes,\n",
    "                         'coordinates': pred_coordinates,\n",
    "                         'maximums': mxs,\n",
    "                         'ind': i})"
   ]
  },
  {
   "cell_type": "code",
   "execution_count": null,
   "metadata": {
    "execution": {
     "iopub.execute_input": "2024-11-27T17:51:32.858224Z",
     "iopub.status.busy": "2024-11-27T17:51:32.857844Z",
     "iopub.status.idle": "2024-11-27T17:51:32.862894Z",
     "shell.execute_reply": "2024-11-27T17:51:32.862000Z",
     "shell.execute_reply.started": "2024-11-27T17:51:32.858191Z"
    },
    "trusted": true
   },
   "outputs": [],
   "source": [
    "for pred in predicts:\n",
    "    print(len(pred['classes']))\n",
    "    # print(pred['classes'])"
   ]
  },
  {
   "cell_type": "code",
   "execution_count": null,
   "metadata": {
    "execution": {
     "iopub.execute_input": "2024-11-27T17:44:52.933416Z",
     "iopub.status.busy": "2024-11-27T17:44:52.933025Z",
     "iopub.status.idle": "2024-11-27T17:44:52.944748Z",
     "shell.execute_reply": "2024-11-27T17:44:52.943878Z",
     "shell.execute_reply.started": "2024-11-27T17:44:52.933380Z"
    },
    "trusted": true
   },
   "outputs": [],
   "source": [
    "submission = pd.read_csv('/kaggle/input/power-line-security-zone-vegetation-detection/sample_submission.csv')\n",
    "submission.columns"
   ]
  },
  {
   "cell_type": "code",
   "execution_count": null,
   "metadata": {
    "execution": {
     "iopub.execute_input": "2024-11-27T17:49:05.763999Z",
     "iopub.status.busy": "2024-11-27T17:49:05.763395Z",
     "iopub.status.idle": "2024-11-27T17:49:05.768536Z",
     "shell.execute_reply": "2024-11-27T17:49:05.767496Z",
     "shell.execute_reply.started": "2024-11-27T17:49:05.763961Z"
    },
    "trusted": true
   },
   "outputs": [],
   "source": [
    "result = pd.DataFrame()\n",
    "all_count = 0"
   ]
  },
  {
   "cell_type": "code",
   "execution_count": null,
   "metadata": {
    "execution": {
     "iopub.execute_input": "2024-11-27T17:49:05.964089Z",
     "iopub.status.busy": "2024-11-27T17:49:05.963783Z",
     "iopub.status.idle": "2024-11-27T17:49:06.510964Z",
     "shell.execute_reply": "2024-11-27T17:49:06.510001Z",
     "shell.execute_reply.started": "2024-11-27T17:49:05.964059Z"
    },
    "trusted": true
   },
   "outputs": [],
   "source": [
    "for i, pred in enumerate(predicts):\n",
    "    classes, coords, mxs = pred['classes'], pred['coordinates'], pred['maximums']\n",
    "    file_name = counts.iloc[i]['index']\n",
    "    for j in range(len(classes)):\n",
    "        coord = coords[j].cpu().numpy()\n",
    "        data = {'file_name': file_name,\n",
    "                'center_x': coord[0],\n",
    "                'center_y': coord[1],\n",
    "                'center_z': coord[2],\n",
    "                'size_x': coord[3],\n",
    "                'size_y': coord[4],\n",
    "                'size_z': coord[5],\n",
    "                'yaw': coord[6],\n",
    "                'class': classes[j],\n",
    "                'score': mxs[j]}\n",
    "        result[all_count] = data\n",
    "        all_count += 1"
   ]
  },
  {
   "cell_type": "code",
   "execution_count": null,
   "metadata": {
    "execution": {
     "iopub.execute_input": "2024-11-27T17:49:08.316212Z",
     "iopub.status.busy": "2024-11-27T17:49:08.315431Z",
     "iopub.status.idle": "2024-11-27T17:49:08.334207Z",
     "shell.execute_reply": "2024-11-27T17:49:08.333431Z",
     "shell.execute_reply.started": "2024-11-27T17:49:08.316174Z"
    },
    "trusted": true
   },
   "outputs": [],
   "source": [
    "result = result.T.reset_index().rename(columns={'index': 'id'})\n",
    "result['id'] += 1\n",
    "result.to_csv('submision.csv', index=False)"
   ]
  },
  {
   "cell_type": "markdown",
   "metadata": {},
   "source": [
    "## Vizualize data"
   ]
  },
  {
   "cell_type": "code",
   "execution_count": null,
   "metadata": {
    "execution": {
     "iopub.execute_input": "2024-11-23T18:32:15.469420Z",
     "iopub.status.busy": "2024-11-23T18:32:15.469149Z",
     "iopub.status.idle": "2024-11-23T18:32:15.473311Z",
     "shell.execute_reply": "2024-11-23T18:32:15.472429Z",
     "shell.execute_reply.started": "2024-11-23T18:32:15.469395Z"
    },
    "trusted": true
   },
   "outputs": [],
   "source": [
    "fig = plt.figure(figsize=(15, 10))\n",
    "ax = fig.add_subplot(111, projection='3d')\n",
    "\n",
    "ax.scatter(xyz_df['x'][70000], xyz_df['y'][:70000], xyz_df['z'][:70000], s=1, alpha=0.5)\n",
    "\n",
    "# ax.set_title(row['class'])\n",
    "ax.set_xlabel(\"X\")\n",
    "ax.set_ylabel(\"Y\")\n",
    "ax.set_zlabel(\"Z\")\n",
    "\n",
    "plt.show()"
   ]
  },
  {
   "cell_type": "code",
   "execution_count": null,
   "metadata": {
    "trusted": true
   },
   "outputs": [],
   "source": []
  },
  {
   "cell_type": "code",
   "execution_count": null,
   "metadata": {
    "trusted": true
   },
   "outputs": [],
   "source": []
  }
 ],
 "metadata": {
  "kaggle": {
   "accelerator": "gpu",
   "dataSources": [
    {
     "databundleVersionId": 10166067,
     "sourceId": 88412,
     "sourceType": "competition"
    },
    {
     "datasetId": 6159312,
     "sourceId": 10005868,
     "sourceType": "datasetVersion"
    },
    {
     "datasetId": 6175022,
     "sourceId": 10027049,
     "sourceType": "datasetVersion"
    },
    {
     "isSourceIdPinned": true,
     "modelId": 176018,
     "modelInstanceId": 153547,
     "sourceId": 180206,
     "sourceType": "modelInstanceVersion"
    }
   ],
   "dockerImageVersionId": 30787,
   "isGpuEnabled": true,
   "isInternetEnabled": true,
   "language": "python",
   "sourceType": "notebook"
  },
  "kernelspec": {
   "display_name": "Python 3",
   "language": "python",
   "name": "python3"
  },
  "language_info": {
   "codemirror_mode": {
    "name": "ipython",
    "version": 3
   },
   "file_extension": ".py",
   "mimetype": "text/x-python",
   "name": "python",
   "nbconvert_exporter": "python",
   "pygments_lexer": "ipython3",
   "version": "3.10.14"
  }
 },
 "nbformat": 4,
 "nbformat_minor": 4
}
